{
 "cells": [
  {
   "cell_type": "code",
   "execution_count": 1,
   "metadata": {},
   "outputs": [],
   "source": [
    "\"\"\"\n",
    "https://pythonhosted.org/scikit-fuzzy/auto_examples/plot_tipping_problem.html\n",
    "\"\"\"\n",
    "\n",
    "from fuzzylogic.classes import Domain, Rule\n",
    "from fuzzylogic.functions import R, S, triangular\n",
    "\n",
    "res = 1\n",
    "\n",
    "food = Domain(\"food_quality\", 0, 10, res=res)\n",
    "serv = Domain(\"service_quality\", 0, 10, res=res)\n",
    "tip = Domain(\"tip_amount\", 0, 25, res=res)\n",
    "\n",
    "\n",
    "food.lo = S(0, 5)\n",
    "food.md = triangular(0, 10)\n",
    "food.hi = R(5, 10)\n",
    "\n",
    "serv.lo = S(0, 5)\n",
    "serv.md = triangular(0, 10)\n",
    "serv.hi = R(5, 10)\n",
    "\n",
    "tip.lo = S(0, 13)\n",
    "tip.md = triangular(0, 25)\n",
    "tip.hi = R(13, 25)\n",
    "\n",
    "R1 = Rule({(food.lo, serv.lo): tip.lo})\n",
    "R2 = Rule({serv.md: tip.md})\n",
    "R2x = Rule({(serv.md,): tip.md})\n",
    "R2a = Rule({(food.lo | food.md | food.hi, serv.md): tip.md})\n",
    "R2b = Rule({(food.lo & food.md & food.hi, serv.md): tip.md})\n",
    "R3 = Rule({(food.hi, serv.hi): tip.hi})\n",
    "\n",
    "rules = Rule({\n",
    "    (food.lo, serv.lo): tip.lo,\n",
    "    food.md: tip.md,\n",
    "    (food.hi, serv.hi): tip.hi,\n",
    "    })\n",
    "\n",
    "values = {food: 6.5, serv: 9.8}\n"
   ]
  },
  {
   "cell_type": "code",
   "execution_count": 2,
   "metadata": {},
   "outputs": [
    {
     "data": {
      "text/plain": [
       "(np.float64(12.019230769230766), np.float64(12.019230769230766))"
      ]
     },
     "execution_count": 2,
     "metadata": {},
     "output_type": "execute_result"
    }
   ],
   "source": [
    "R2(values), R2x(values)"
   ]
  },
  {
   "cell_type": "code",
   "execution_count": 3,
   "metadata": {},
   "outputs": [
    {
     "data": {
      "text/plain": [
       "(0, 0.7, 0.3)"
      ]
     },
     "execution_count": 3,
     "metadata": {},
     "output_type": "execute_result"
    }
   ],
   "source": [
    "food.lo(6.5), food.md(6.5), food.hi(6.5)"
   ]
  },
  {
   "cell_type": "code",
   "execution_count": 4,
   "metadata": {},
   "outputs": [
    {
     "data": {
      "text/plain": [
       "(0, 0.039999999999999813, 0.9600000000000002)"
      ]
     },
     "execution_count": 4,
     "metadata": {},
     "output_type": "execute_result"
    }
   ],
   "source": [
    "serv.lo(9.8), serv.md(9.8), serv.hi(9.8)"
   ]
  },
  {
   "cell_type": "code",
   "execution_count": 5,
   "metadata": {},
   "outputs": [
    {
     "data": {
      "text/plain": [
       "(0, 0.7, 0.9600000000000002)"
      ]
     },
     "execution_count": 5,
     "metadata": {},
     "output_type": "execute_result"
    }
   ],
   "source": [
    "max(food.lo(6.5), serv.lo(9.8)), max(food.md(6.5), serv.md(9.8)), max(food.hi(6.5), serv.hi(9.8))"
   ]
  },
  {
   "cell_type": "code",
   "execution_count": 6,
   "metadata": {},
   "outputs": [
    {
     "data": {
      "text/plain": [
       "np.float64(20.512820512820507)"
      ]
     },
     "execution_count": 6,
     "metadata": {},
     "output_type": "execute_result"
    }
   ],
   "source": [
    "R3(values)"
   ]
  },
  {
   "cell_type": "code",
   "execution_count": 10,
   "metadata": {},
   "outputs": [
    {
     "data": {
      "text/plain": [
       "0.039999999999999813"
      ]
     },
     "execution_count": 10,
     "metadata": {},
     "output_type": "execute_result"
    }
   ],
   "source": [
    "serv.md(9.8)"
   ]
  }
 ],
 "metadata": {
  "kernelspec": {
   "display_name": "Python 3",
   "language": "python",
   "name": "python3"
  },
  "language_info": {
   "codemirror_mode": {
    "name": "ipython",
    "version": 3
   },
   "file_extension": ".py",
   "mimetype": "text/x-python",
   "name": "python",
   "nbconvert_exporter": "python",
   "pygments_lexer": "ipython3",
   "version": "3.12.3"
  }
 },
 "nbformat": 4,
 "nbformat_minor": 2
}
