{
 "cells": [
  {
   "cell_type": "code",
   "execution_count": 8,
   "metadata": {},
   "outputs": [
    {
     "name": "stdout",
     "output_type": "stream",
     "text": [
      "Overwriting test_units.py\n"
     ]
    }
   ],
   "source": [
    "%%writefile test_units.py\n",
    "\n",
    "import os, sys\n",
    "here = os.path.split(os.path.abspath(os.path.dirname(__file__)))\n",
    "src = os.path.join(here[0], \"src\")\n",
    "sys.path.insert(0,src)\n",
    "\n",
    "from hypothesis import given, strategies as st, assume, settings, HealthCheck\n",
    "from math import isclose\n",
    "from unittest import TestCase, skip\n",
    "import numpy as np\n",
    "print(sys.path)\n",
    "\n",
    "version = (0,1,1,3)\n",
    "\n",
    "from fuzzylogic.classes import Domain, Set\n",
    "from fuzzylogic import functions as fun\n",
    "from fuzzylogic import hedges\n",
    "from fuzzylogic import combinators as combi\n",
    "import fuzzylogic.rules as ru\n",
    "from fuzzylogic import truth\n",
    "\n",
    "class Test_Functions(TestCase):\n",
    "    @given(st.floats(allow_nan=False))\n",
    "    def test_noop(self, x):\n",
    "        f = fun.noop()\n",
    "        assert f(x) == x\n",
    "\n",
    "    @given(st.floats(allow_nan=False, allow_infinity=False))\n",
    "    def test_inv(self, x):\n",
    "        assume(0 <= x <= 1)\n",
    "        f = fun.inv(fun.noop())\n",
    "        assert isclose(f(f(x)), x, abs_tol=1e-16)\n",
    "\n",
    "    @given(st.floats(allow_nan=False, allow_infinity=False), \n",
    "           st.floats(allow_nan=False, allow_infinity=False))\n",
    "    def test_constant(self, x, c):\n",
    "        f = fun.constant(c)\n",
    "        assert f(x) == c\n",
    "\n",
    "\n",
    "    @given(st.floats(allow_nan=False),\n",
    "            st.floats(min_value=0, max_value=1),\n",
    "            st.floats(min_value=0, max_value=1))\n",
    "    def test_alpha(self, x, lower, upper):\n",
    "        assume(lower < upper)\n",
    "        f = fun.alpha(floor=lower, ceiling=upper, func=fun.noop())\n",
    "        if x <= lower:\n",
    "            assert f(x) == lower\n",
    "        elif x >= upper:\n",
    "            assert f(x) == upper\n",
    "        else:\n",
    "            assert f(x) == x\n",
    "    \n",
    "    @given(st.floats(allow_nan=False),\n",
    "            st.floats(min_value=0, max_value=1),\n",
    "            st.floats(min_value=0, max_value=1),\n",
    "            st.floats(min_value=0, max_value=1) | st.none(),\n",
    "            st.floats(min_value=0, max_value=1) | st.none())\n",
    "    def test_alpha_2(self, x, floor, ceil, floor_clip, ceil_clip):\n",
    "        assume(floor < ceil)\n",
    "        if not(floor_clip is None or ceil_clip is None):\n",
    "            assume(floor_clip < ceil_clip)\n",
    "        f = fun.alpha(floor=floor, ceiling=ceil, func=fun.noop(),\n",
    "                     floor_clip=floor_clip, ceiling_clip=ceil_clip)\n",
    "        assert 0 <= f(x) <= 1\n",
    "            \n",
    "    @given(st.floats(allow_nan=False),\n",
    "            st.floats(min_value=0, max_value=1))\n",
    "    def test_normalize(self, x, height):\n",
    "        assume(0 < height)\n",
    "        f = fun.normalize(height, fun.alpha(ceiling=height, \n",
    "                                            func=fun.R(0,100)))\n",
    "        assert (0 <= f(x) <= 1)\n",
    "        \n",
    "    @given(st.floats(min_value=0, max_value=1))\n",
    "    def test_moderate(self, x):\n",
    "        f = fun.moderate(fun.noop())\n",
    "        assert 0 <= f(x) <= 1\n",
    "\n",
    "    @given(st.floats(),\n",
    "           st.floats(),\n",
    "           st.floats(min_value=0, max_value=1),\n",
    "           st.floats(min_value=0, max_value=1))\n",
    "    def test_singleton(self, x, c, no_m, c_m):\n",
    "        assume(0 <= no_m < c_m <= 1)\n",
    "        f = fun.singleton(c, no_m=no_m, c_m=c_m)\n",
    "        assert f(x) == (c_m if x == c else no_m)\n",
    "    \n",
    "    \n",
    "    @given(st.floats(allow_nan=False, allow_infinity=False),\n",
    "          st.floats(allow_nan=False, allow_infinity=False),\n",
    "          st.floats(allow_nan=False, allow_infinity=False))\n",
    "    def test_linear(self, x, m, b):\n",
    "        f = fun.linear(m, b)\n",
    "        assert (0 <= f(x) <= 1)\n",
    "        \n",
    "    @given(st.floats(allow_nan=False),\n",
    "      st.floats(allow_nan=False, allow_infinity=False),\n",
    "      st.floats(allow_nan=False, allow_infinity=False),\n",
    "      st.floats(min_value=0, max_value=1),\n",
    "      st.floats(min_value=0, max_value=1))\n",
    "    def test_bounded_linear(self, x, low, high, c_m, no_m):\n",
    "        assume(low < high)\n",
    "        assume(c_m > no_m)\n",
    "        f = fun.bounded_linear(low, high, c_m=c_m, no_m=no_m)\n",
    "        assert (0 <= f(x) <= 1)\n",
    "\n",
    "    @given(st.floats(allow_nan=False),\n",
    "            st.floats(allow_nan=False, allow_infinity=False),\n",
    "            st.floats(allow_nan=False, allow_infinity=False))\n",
    "    def test_R(self, x, low, high):\n",
    "        assume(low < high)\n",
    "        f = fun.R(low, high)\n",
    "        assert (0 <= f(x) <= 1)\n",
    "        \n",
    "    @given(st.floats(allow_nan=False),\n",
    "        st.floats(allow_nan=False, allow_infinity=False),\n",
    "        st.floats(allow_nan=False, allow_infinity=False))\n",
    "    def test_S(self, x, low, high):\n",
    "        assume(low < high)\n",
    "        f = fun.S(low, high)\n",
    "        assert (0 <= f(x) <= 1)\n",
    "        \n",
    "    @given(st.floats(allow_nan=False),\n",
    "      st.floats(allow_nan=False, allow_infinity=False),\n",
    "      st.floats(allow_nan=False, allow_infinity=False),\n",
    "      st.floats(min_value=0, max_value=1),\n",
    "      st.floats(min_value=0, max_value=1))\n",
    "    def test_rectangular(self, x, low, high, c_m, no_m):\n",
    "        assume(low < high)\n",
    "        f = fun.rectangular(low, high, c_m=c_m, no_m=no_m)\n",
    "        assert (0 <= f(x) <= 1)\n",
    "        \n",
    "    @given(st.floats(allow_nan=False),\n",
    "      st.floats(allow_nan=False, allow_infinity=False),\n",
    "      st.floats(allow_nan=False, allow_infinity=False),\n",
    "      st.floats(allow_nan=False, allow_infinity=False),\n",
    "      st.floats(min_value=0, max_value=1),\n",
    "      st.floats(min_value=0, max_value=1))\n",
    "    @settings(suppress_health_check=[HealthCheck.filter_too_much])\n",
    "    def test_triangular(self, x, low, high, c, c_m, no_m):\n",
    "        assume(low < c < high)\n",
    "        assume(no_m < c_m)\n",
    "        f = fun.triangular(low, high, c=c, c_m=c_m, no_m=no_m)\n",
    "        assert (0 <= f(x) <= 1)\n",
    "        \n",
    "    @given(st.floats(allow_nan=False),\n",
    "      st.floats(allow_nan=False, allow_infinity=False),\n",
    "      st.floats(allow_nan=False, allow_infinity=False),\n",
    "      st.floats(allow_nan=False, allow_infinity=False),\n",
    "      st.floats(allow_nan=False, allow_infinity=False),\n",
    "      st.floats(min_value=0, max_value=1),\n",
    "      st.floats(min_value=0, max_value=1))\n",
    "    @settings(suppress_health_check=[HealthCheck.filter_too_much])\n",
    "    def test_trapezoid(self, x, low, c_low, c_high, high, c_m, no_m):\n",
    "        assume(low < c_low <= c_high < high)\n",
    "        assume(no_m < c_m)\n",
    "        f = fun.trapezoid(low, c_low, c_high, high, c_m=c_m, no_m=no_m)\n",
    "        assert (0 <= f(x) <= 1)\n",
    "        \n",
    "    @given(st.floats(allow_nan=False),\n",
    "      st.floats(min_value=0, max_value=1),\n",
    "      st.floats(allow_nan=False, allow_infinity=False),\n",
    "      st.floats(min_value=0, max_value=1))\n",
    "    def test_sigmoid(self, x, L, k, x0):\n",
    "        assume(0 < L <= 1)\n",
    "        f = fun.sigmoid(L, k, x0)\n",
    "        assert (0 <= f(x) <= 1)\n",
    "\n",
    "    @given(st.floats(allow_nan=False),\n",
    "      st.floats(allow_nan=False, allow_infinity=False),\n",
    "      st.floats(allow_nan=False, allow_infinity=False))\n",
    "    @settings(suppress_health_check=[HealthCheck.filter_too_much])\n",
    "    def test_bounded_sigmoid(self, x, low, high):\n",
    "        assume(low < high)\n",
    "        f = fun.bounded_sigmoid(low, high)\n",
    "        assert (0 <= f(x) <= 1)\n",
    "    \n",
    "    @given(st.floats(allow_nan=False),\n",
    "      st.floats(allow_nan=False, allow_infinity=False))\n",
    "    def test_simple_sigmoid(self, x, k):\n",
    "        f = fun.simple_sigmoid(k)\n",
    "        assert (0 <= f(x) <= 1)\n",
    "        \n",
    "    @given(st.floats(allow_nan=False),\n",
    "      st.floats(allow_nan=False, allow_infinity=False),\n",
    "      st.floats(allow_nan=False, allow_infinity=False),\n",
    "      st.floats(allow_nan=False, allow_infinity=False))\n",
    "    @settings(suppress_health_check=[HealthCheck.filter_too_much])\n",
    "    def test_triangular_sigmoid(self, x, low, high, c):\n",
    "        assume(low < c < high)\n",
    "        f = fun.triangular(low, high, c=c)\n",
    "        assert (0 <= f(x) <= 1)\n",
    "    \n",
    "    @given(st.floats(allow_nan=False),\n",
    "      st.floats(allow_nan=False, allow_infinity=False),\n",
    "      st.floats(allow_nan=False, allow_infinity=False),\n",
    "      st.floats(min_value=0, max_value=1))\n",
    "    def test_gauss(self, x, b, c, c_m):\n",
    "        assume(0 < b)\n",
    "        assume(0 < c_m)\n",
    "        f = fun.gauss(c, b, c_m=c_m)\n",
    "        assert (0 <= f(x) <= 1)\n",
    "        \n",
    "    @given(st.floats(allow_nan=False, min_value=0, allow_infinity=False),\n",
    "          st.floats(allow_nan=False, min_value=0, allow_infinity=False),\n",
    "          st.floats(allow_nan=False, min_value=0)\n",
    "          )\n",
    "    def test_bounded_exponential(self, k, limit, x):\n",
    "        assume(k != 0)\n",
    "        assume(limit != 0)\n",
    "        f = fun.bounded_exponential(k, limit)\n",
    "        assert (0 <= f(x) <= limit)\n",
    "\n",
    "class Test_Hedges(TestCase):\n",
    "    @given(st.floats(min_value=0, max_value=1))\n",
    "    def test_very(self, x):\n",
    "        s = Set(fun.noop())\n",
    "        f = hedges.very(s)\n",
    "        assert (0 <= f(x) <= 1)\n",
    "        \n",
    "    @given(st.floats(min_value=0, max_value=1))\n",
    "    def test_minus(self, x):\n",
    "        s = Set(fun.noop())\n",
    "        f = hedges.minus(s)\n",
    "        assert (0 <= f(x) <= 1)\n",
    "        \n",
    "    @given(st.floats(min_value=0, max_value=1))\n",
    "    def test_plus(self, x):\n",
    "        s = Set(fun.noop())\n",
    "        f = hedges.plus(s)\n",
    "        assert (0 <= f(x) <= 1)\n",
    "\n",
    "\n",
    "class Test_Combinators(TestCase):\n",
    "    @given(st.floats(min_value=0, max_value=1))\n",
    "    def test_MIN(self, x):\n",
    "        a = fun.noop()\n",
    "        b = fun.noop()\n",
    "        f = combi.MIN(a, b)\n",
    "        assert (0 <= f(x) <= 1)\n",
    "\n",
    "    @given(st.floats(min_value=0, max_value=1))\n",
    "    def test_MAX(self, x):\n",
    "        a = fun.noop()\n",
    "        b = fun.noop()\n",
    "        f = combi.MAX(a, b)\n",
    "        assert (0 <= f(x) <= 1)\n",
    "    \n",
    "    @given(st.floats(min_value=0, max_value=1))\n",
    "    def test_product(self, x):\n",
    "        a = fun.noop()\n",
    "        b = fun.noop()\n",
    "        f = combi.product(a, b)\n",
    "        assert (0 <= f(x) <= 1)\n",
    "    \n",
    "    @given(st.floats(min_value=0, max_value=1))\n",
    "    def test_bounded_sum(self, x):\n",
    "        a = fun.noop()\n",
    "        b = fun.noop()\n",
    "        f = combi.bounded_sum(a, b)\n",
    "        assert (0 <= f(x) <= 1)\n",
    "\n",
    "    @given(st.floats(min_value=0, max_value=1))\n",
    "    def test_lukasiewicz_AND(self, x):\n",
    "        a = fun.noop()\n",
    "        b = fun.noop()\n",
    "        f = combi.lukasiewicz_AND(a, b)\n",
    "        assert (0 <= f(x) <= 1)\n",
    "\n",
    "    @given(st.floats(min_value=0, max_value=1))\n",
    "    def test_lukasiewicz_OR(self, x):\n",
    "        a = fun.noop()\n",
    "        b = fun.noop()\n",
    "        f = combi.lukasiewicz_OR(a, b)\n",
    "        assert (0 <= f(x) <= 1)\n",
    "        \n",
    "    @given(st.floats(min_value=0, max_value=1))\n",
    "    def test_einstein_product(self, x):\n",
    "        a = fun.noop()\n",
    "        b = fun.noop()\n",
    "        f = combi.einstein_product(a, b)\n",
    "        assert (0 <= f(x) <= 1)\n",
    "        \n",
    "    @given(st.floats(min_value=0, max_value=1))\n",
    "    def test_einstein_sum(self, x):\n",
    "        a = fun.noop()\n",
    "        b = fun.noop()\n",
    "        f = combi.einstein_sum(a, b)\n",
    "        assert (0 <= f(x) <= 1)\n",
    "        \n",
    "    @given(st.floats(min_value=0, max_value=1))\n",
    "    def test_hamacher_product(self, x):\n",
    "        a = fun.noop()\n",
    "        b = fun.noop()\n",
    "        f = combi.hamacher_product(a, b)\n",
    "        assert (0 <= f(x) <= 1)\n",
    "        \n",
    "    @given(st.floats(min_value=0, max_value=1))\n",
    "    def test_hamacher_sum(self, x):\n",
    "        a = fun.noop()\n",
    "        b = fun.noop()\n",
    "        f = combi.hamacher_sum(a, b)\n",
    "        assert (0 <= f(x) <= 1)\n",
    "        \n",
    "    @given(st.floats(min_value=0, max_value=1),\n",
    "          st.floats(min_value=0, max_value=1))\n",
    "    def test_lambda_op(self, x, l):\n",
    "        a = fun.noop()\n",
    "        b = fun.noop()\n",
    "        g = combi.lambda_op(l)\n",
    "        f = g(a, b)\n",
    "        assert (0 <= f(x) <= 1)\n",
    "        \n",
    "    @given(st.floats(min_value=0, max_value=1),\n",
    "          st.floats(min_value=0, max_value=1))\n",
    "    def test_gamma_op(self, x, g):\n",
    "        a = fun.noop()\n",
    "        b = fun.noop()\n",
    "        g = combi.gamma_op(g)\n",
    "        f = g(a, b)\n",
    "        assert (0 <= f(x) <= 1)\n",
    "        \n",
    "    @given(st.floats(min_value=0, max_value=1))\n",
    "    def test_hamacher_sum(self, x):\n",
    "        a = fun.noop()\n",
    "        b = fun.noop()\n",
    "        f = combi.simple_disjoint_sum(a, b)\n",
    "        assert (0 <= f(x) <= 1)\n",
    "\n",
    "class Test_Domain(TestCase):\n",
    "    def test_basics(self):\n",
    "        D = Domain(\"d\", 0, 10)\n",
    "        assert D._name == \"d\"\n",
    "        assert D._low == 0\n",
    "        assert D._high == 10\n",
    "        assert D._res == 1\n",
    "        x = Set(lambda x: 1)\n",
    "        D.s = x\n",
    "        assert D.s == x\n",
    "        assert D._sets == {\"s\": x}\n",
    "        R = D(3)\n",
    "        assert R == {\"s\": 1}\n",
    "        # repr is hard - need to repr sets first :/\n",
    "        #D = eval(repr(d))\n",
    "        #assert d == D\n",
    "        \n",
    "class Test_Set(TestCase):  \n",
    "    @given(st.floats(allow_nan=False, allow_infinity=False),\n",
    "           st.floats(allow_nan=False, allow_infinity=False),\n",
    "          st.floats(min_value=0.0001, max_value=1))\n",
    "    def test_eq(self, low, high, res):\n",
    "        \"\"\"This also tests Set.array().\n",
    "        This test can massively slow down hypothesis with even \n",
    "        reasonably large/small values.\n",
    "        \"\"\"\n",
    "        assume(low < high)\n",
    "        # to avoid MemoryError and runs that take forever..\n",
    "        assume(high - low <= 10)\n",
    "        D1 = Domain(\"1\", low, high, res=res)\n",
    "        D1.s1 = fun.bounded_linear(low, high)\n",
    "        D2 = Domain(\"2\", low, high, res=res)\n",
    "        D2.s2 = Set(fun.bounded_linear(low, high))\n",
    "        assert(D1.s1 == D2.s2)\n",
    "    \n",
    "    def test_normalized(self):\n",
    "        D = Domain(\"d\", 0, 10, res=0.1)\n",
    "        D.s = Set(fun.bounded_linear(3, 12))\n",
    "        D.x = D.s.normalized()\n",
    "        D.y = D.x.normalized()\n",
    "        assert D.x == D.y\n",
    "        \n",
    "    def test_sub_super_set(self):\n",
    "        D = Domain(\"d\", 0, 10, res=0.1)\n",
    "        D.s = Set(fun.bounded_linear(3, 12))\n",
    "        D.x = D.s.normalized()\n",
    "        assert (D.x >= D.s)\n",
    "        assert (D.s <= D.x)\n",
    "        \n",
    "    def test_complement(self):\n",
    "        D = Domain(\"d\", 0, 10, res=0.1)\n",
    "        D.s1 = Set(fun.bounded_linear(3, 12))\n",
    "        D.s2 = ~~D.s1\n",
    "        assert all(np.isclose(D.s1.array(), D.s2.array()))\n",
    "        \n",
    "\n",
    "class Test_Rules(TestCase):\n",
    "    @given(st.floats(min_value=0, max_value=1),\n",
    "           st.floats(allow_infinity=False, allow_nan=False),\n",
    "           st.floats(allow_infinity=False, allow_nan=False),\n",
    "           st.floats(min_value=0, max_value=1),\n",
    "           st.floats(min_value=0, max_value=1))\n",
    "    @settings(suppress_health_check=[HealthCheck.filter_too_much])\n",
    "    def test_rescale(self, x, out_min, out_max, in_min, in_max):\n",
    "        assume(in_min < in_max)\n",
    "        assume(in_min <= x <= in_max)\n",
    "        assume(out_min < out_max)\n",
    "        f = ru.rescale(out_min, out_max) \n",
    "        assert (out_min <= f(x) <= out_max)\n",
    "        \n",
    "    @given(st.floats(allow_nan=False),\n",
    "          st.floats(allow_nan=False))\n",
    "    def round_partial(self, x, res):\n",
    "        assert(isclose(x, ru.round_partial(x, res), res=res))\n",
    "        \n",
    "class Test_Truth(TestCase):\n",
    "    @given(st.floats(min_value=0, max_value=1))\n",
    "    def test_true_and_false(self, m):\n",
    "        assert truth.true(m) + truth.false(m) == 1\n",
    "    \n",
    "    @given(st.floats(min_value=0, max_value=1))\n",
    "    def test_very_false_and_fairly_true(self, m):\n",
    "        assert truth.very_false(m) + truth.fairly_true(m) == 0\n",
    "        \n",
    "    @given(st.floats(min_value=0, max_value=1))\n",
    "    def test_fairly_false_and_very_true(self, m):\n",
    "        assert truth.fairly_false(m) + truth.very_true(m) == 0"
   ]
  },
  {
   "cell_type": "code",
   "execution_count": 3,
   "metadata": {},
   "outputs": [
    {
     "name": "stdout",
     "output_type": "stream",
     "text": [
      "Overwriting test_functionality.py\n"
     ]
    }
   ],
   "source": [
    "%%writefile test_functionality.py\n",
    "\n",
    "\"\"\"\n",
    "Functional test of the fuzzylogic lib 'fuzzy'.\n",
    "\"\"\"\n",
    "\n",
    "import os, sys\n",
    "here = os.path.split(os.path.abspath(os.path.dirname(__file__)))\n",
    "src = os.path.join(here[0], \"src\")\n",
    "sys.path.insert(0,src)\n",
    "print(sys.path)\n",
    "\n",
    "from pytest import fixture, raises\n",
    "from numpy import array_equal\n",
    "\n",
    "from fuzzylogic.classes import Domain, Set\n",
    "from fuzzylogic.rules import rescale, weighted_sum\n",
    "from fuzzylogic.functions import R, S, bounded_linear\n",
    "\n",
    "@fixture\n",
    "def temp():\n",
    "    d = Domain('temperature', -100, 100, res=0.1)  # in Celsius\n",
    "    d.cold = S(0, 15)  # sic\n",
    "    d.hot = Set(R(10, 30))  # sic\n",
    "    d.warm = ~d.cold & ~d.hot\n",
    "    return d\n",
    "\n",
    "@fixture\n",
    "def simple():\n",
    "    d = Domain(\"simple\", 0, 10)\n",
    "    d.low = S(0,1)\n",
    "    d.high = R(8,10)\n",
    "    return d\n",
    "\n",
    "def test_array(simple):\n",
    "    assert array_equal(simple.low.array(), [1,0,0,0,0,0,0,0,0,0,0])\n",
    "    assert array_equal(simple.high.array(), [0, 0,0,0,0,0,0,0,0,0.5,1.])\n",
    "    assert len(simple.low.array()) == 11  # unlike arrays and lists, upper boundary is INCLUDED\n",
    "\n",
    "def test_value(temp):\n",
    "    assert(temp(6) == {'cold': 0.6, 'hot': 0, 'warm': 0.4})\n",
    "\n",
    "def test_rating():\n",
    "    \"\"\"Tom is surveying restaurants. \n",
    "    He doesn't need fancy logic but rather uses a simple approach \n",
    "    with weights.\n",
    "    He went into a small, dirty bar that served some \n",
    "    really good drink and food that wasn't nicely arranged but still\n",
    "    yummmy. He rates the different factors on a scale from 1 to 10,\n",
    "    uses a bounded_linear function to normalize over [0,1] and\n",
    "    passes both the weights (how much each aspect should weigh in total)\n",
    "    and the domain as parameters into weighted_sum.\n",
    "    However, he can't just use Domain(value) because that would return\n",
    "    a dict of memberships, instead he uses Domain.min(value) which\n",
    "    returns the minimum of all memberships no matter how many sets\n",
    "    there are. He creates a dict of membership values corresponding to\n",
    "    the weights and passes that into the parametrized weighted_sum func\n",
    "    as argument to get the final rating for this restaurant.\n",
    "    \"\"\"\n",
    "    R = Domain(\"rating\", 1, 10, res=0.1)\n",
    "    R.norm = bounded_linear(1, 10)\n",
    "    weights = {\"beverage\": 0.3, \n",
    "                \"atmosphere\": 0.2, \n",
    "                \"looks\":0.2,\n",
    "                \"taste\": 0.3}\n",
    "    w_func = weighted_sum(weights=weights, target_d=R)      \n",
    "\n",
    "    ratings = {\"beverage\": R.min(9),\n",
    "                \"atmosphere\": R.min(5),\n",
    "                \"looks\": R.min(4),\n",
    "                \"taste\": R.min(8)}\n",
    "    assert w_func(ratings) == 6.9\n",
    "    \n",
    "if __name__ == '__main__':\n",
    "    unittest.main()"
   ]
  },
  {
   "cell_type": "code",
   "execution_count": 7,
   "metadata": {},
   "outputs": [
    {
     "ename": "OverflowError",
     "evalue": "math range error",
     "output_type": "error",
     "traceback": [
      "\u001b[0;31m---------------------------------------------------------------------------\u001b[0m",
      "\u001b[0;31mOverflowError\u001b[0m                             Traceback (most recent call last)",
      "\u001b[0;32m<ipython-input-7-8cd4079a5d32>\u001b[0m in \u001b[0;36m<module>\u001b[0;34m()\u001b[0m\n\u001b[1;32m      1\u001b[0m \u001b[0;32mfrom\u001b[0m \u001b[0mmath\u001b[0m \u001b[0;32mimport\u001b[0m \u001b[0mexp\u001b[0m\u001b[0;34m\u001b[0m\u001b[0;34m\u001b[0m\u001b[0m\n\u001b[1;32m      2\u001b[0m \u001b[0;34m\u001b[0m\u001b[0m\n\u001b[0;32m----> 3\u001b[0;31m \u001b[0mexp\u001b[0m\u001b[0;34m(\u001b[0m\u001b[0;36m710\u001b[0m\u001b[0;34m)\u001b[0m\u001b[0;34m\u001b[0m\u001b[0;34m\u001b[0m\u001b[0m\n\u001b[0m",
      "\u001b[0;31mOverflowError\u001b[0m: math range error"
     ]
    }
   ],
   "source": [
    "from math import exp\n",
    "\n",
    "exp(710)"
   ]
  },
  {
   "cell_type": "code",
   "execution_count": 2,
   "metadata": {
    "execution": {
     "iopub.execute_input": "2022-01-25T14:20:16.434992Z",
     "iopub.status.busy": "2022-01-25T14:20:16.434641Z",
     "iopub.status.idle": "2022-01-25T14:20:16.463703Z",
     "shell.execute_reply": "2022-01-25T14:20:16.462582Z",
     "shell.execute_reply.started": "2022-01-25T14:20:16.434951Z"
    },
    "tags": []
   },
   "outputs": [
    {
     "data": {
      "text/plain": [
       "6"
      ]
     },
     "execution_count": 2,
     "metadata": {},
     "output_type": "execute_result"
    }
   ],
   "source": [
    "def foo(y):\n",
    "    def func(x):\n",
    "        return x * y\n",
    "    return func\n",
    "    \n",
    "f = foo(2)\n",
    "f(3)"
   ]
  },
  {
   "cell_type": "code",
   "execution_count": 84,
   "metadata": {
    "execution": {
     "iopub.execute_input": "2022-01-26T12:32:32.816139Z",
     "iopub.status.busy": "2022-01-26T12:32:32.815793Z",
     "iopub.status.idle": "2022-01-26T12:32:32.825217Z",
     "shell.execute_reply": "2022-01-26T12:32:32.824161Z",
     "shell.execute_reply.started": "2022-01-26T12:32:32.816098Z"
    },
    "tags": []
   },
   "outputs": [],
   "source": [
    "import numpy as np, pandas as pd"
   ]
  },
  {
   "cell_type": "code",
   "execution_count": 21,
   "metadata": {
    "execution": {
     "iopub.execute_input": "2022-01-25T14:24:37.670642Z",
     "iopub.status.busy": "2022-01-25T14:24:37.670298Z",
     "iopub.status.idle": "2022-01-25T14:24:37.680556Z",
     "shell.execute_reply": "2022-01-25T14:24:37.679430Z",
     "shell.execute_reply.started": "2022-01-25T14:24:37.670606Z"
    },
    "tags": []
   },
   "outputs": [],
   "source": [
    "M = np.ndarray((2,2), dtype=object)"
   ]
  },
  {
   "cell_type": "code",
   "execution_count": 22,
   "metadata": {
    "execution": {
     "iopub.execute_input": "2022-01-25T14:24:39.556673Z",
     "iopub.status.busy": "2022-01-25T14:24:39.556325Z",
     "iopub.status.idle": "2022-01-25T14:24:39.570995Z",
     "shell.execute_reply": "2022-01-25T14:24:39.568662Z",
     "shell.execute_reply.started": "2022-01-25T14:24:39.556633Z"
    },
    "tags": []
   },
   "outputs": [
    {
     "data": {
      "text/plain": [
       "array([[None, None],\n",
       "       [None, None]], dtype=object)"
      ]
     },
     "execution_count": 22,
     "metadata": {},
     "output_type": "execute_result"
    }
   ],
   "source": [
    "M"
   ]
  },
  {
   "cell_type": "code",
   "execution_count": 24,
   "metadata": {
    "execution": {
     "iopub.execute_input": "2022-01-25T14:25:52.679866Z",
     "iopub.status.busy": "2022-01-25T14:25:52.679461Z",
     "iopub.status.idle": "2022-01-25T14:25:52.686098Z",
     "shell.execute_reply": "2022-01-25T14:25:52.685170Z",
     "shell.execute_reply.started": "2022-01-25T14:25:52.679791Z"
    },
    "tags": []
   },
   "outputs": [],
   "source": [
    "M[0,0] = foo(1)\n",
    "M[1,0] = foo(2)\n",
    "M[0,1] = foo(3)\n",
    "M[1,1] = foo(4)"
   ]
  },
  {
   "cell_type": "code",
   "execution_count": 27,
   "metadata": {
    "execution": {
     "iopub.execute_input": "2022-01-25T14:27:41.953532Z",
     "iopub.status.busy": "2022-01-25T14:27:41.953043Z",
     "iopub.status.idle": "2022-01-25T14:27:41.962266Z",
     "shell.execute_reply": "2022-01-25T14:27:41.961373Z",
     "shell.execute_reply.started": "2022-01-25T14:27:41.953497Z"
    },
    "tags": []
   },
   "outputs": [],
   "source": [
    "from fuzzylogic.classes import Set\n",
    "from fuzzylogic.functions import S"
   ]
  },
  {
   "cell_type": "code",
   "execution_count": 28,
   "metadata": {
    "execution": {
     "iopub.execute_input": "2022-01-25T14:27:52.439372Z",
     "iopub.status.busy": "2022-01-25T14:27:52.438665Z",
     "iopub.status.idle": "2022-01-25T14:27:52.447543Z",
     "shell.execute_reply": "2022-01-25T14:27:52.446722Z",
     "shell.execute_reply.started": "2022-01-25T14:27:52.439316Z"
    },
    "tags": []
   },
   "outputs": [
    {
     "data": {
      "text/plain": [
       "'dangling Set(<function S.<locals>.f at 0x7fa8241eadc0>)'"
      ]
     },
     "execution_count": 28,
     "metadata": {},
     "output_type": "execute_result"
    }
   ],
   "source": [
    "str(Set(S(2,4)))"
   ]
  },
  {
   "cell_type": "code",
   "execution_count": 70,
   "metadata": {
    "execution": {
     "iopub.execute_input": "2022-01-31T08:08:39.839901Z",
     "iopub.status.busy": "2022-01-31T08:08:39.839522Z",
     "iopub.status.idle": "2022-01-31T08:08:39.919637Z",
     "shell.execute_reply": "2022-01-31T08:08:39.918699Z",
     "shell.execute_reply.started": "2022-01-31T08:08:39.839862Z"
    },
    "tags": []
   },
   "outputs": [],
   "source": [
    "from fuzzylogic.classes import Domain, Rule, Set\n",
    "from fuzzylogic.functions import R, S, trapezoid"
   ]
  },
  {
   "cell_type": "code",
   "execution_count": 71,
   "metadata": {
    "execution": {
     "iopub.execute_input": "2022-01-31T08:08:41.032597Z",
     "iopub.status.busy": "2022-01-31T08:08:41.032267Z",
     "iopub.status.idle": "2022-01-31T08:08:41.046606Z",
     "shell.execute_reply": "2022-01-31T08:08:41.045735Z",
     "shell.execute_reply.started": "2022-01-31T08:08:41.032560Z"
    },
    "tags": []
   },
   "outputs": [],
   "source": [
    "temp = Domain(\"Temperatur\", -30, 100, res=0.0001)  # ,res=0.1)\n",
    "temp.kalt = S(-10, 30)\n",
    "temp.heiß = R(30, 70)\n",
    "temp.mittel = ~temp.heiß & ~temp.kalt\n",
    "\n",
    "\n",
    "tan = Domain(\"tandelta\", 0, 1.3, res=0.0001)  # ,res=0.1)\n",
    "tan.klein = S(0.1, 0.5)\n",
    "tan.groß = R(0.5, 0.9)\n",
    "tan.mittel = ~tan.groß & ~tan.klein\n",
    "\n",
    "gef = Domain(\"Gefahrenbewertung\", -0.5, 1.5, res=0.0001)  # ,res=0.1)\n",
    "gef.klein = trapezoid(-0.5, 0, 0, 0.5)\n",
    "gef.groß = trapezoid(0.5, 1, 1, 1.5)\n",
    "gef.mittel = trapezoid(0, 0.5, 0.5, 1)"
   ]
  },
  {
   "cell_type": "code",
   "execution_count": 2,
   "metadata": {
    "execution": {
     "iopub.execute_input": "2022-01-31T07:28:36.555005Z",
     "iopub.status.busy": "2022-01-31T07:28:36.554652Z",
     "iopub.status.idle": "2022-01-31T07:28:39.328864Z",
     "shell.execute_reply": "2022-01-31T07:28:39.328370Z",
     "shell.execute_reply.started": "2022-01-31T07:28:36.554968Z"
    },
    "tags": []
   },
   "outputs": [],
   "source": [
    "import pandas as pd, numpy as np"
   ]
  },
  {
   "cell_type": "code",
   "execution_count": 73,
   "metadata": {
    "execution": {
     "iopub.execute_input": "2022-01-31T08:08:55.468491Z",
     "iopub.status.busy": "2022-01-31T08:08:55.468050Z",
     "iopub.status.idle": "2022-01-31T08:08:55.477109Z",
     "shell.execute_reply": "2022-01-31T08:08:55.476374Z",
     "shell.execute_reply.started": "2022-01-31T08:08:55.468438Z"
    },
    "tags": []
   },
   "outputs": [],
   "source": [
    "table = \"\"\"\n",
    "            tan.klein\ttan.mittel\ttan.groß\n",
    "temp.kalt\tgef.klein\tgef.klein\tgef.mittel\n",
    "temp.mittel\tgef.klein\tgef.mittel\tgef.groß\n",
    "temp.heiß\tgef.klein\tgef.groß\tgef.groß\n",
    "\"\"\"\n",
    "import io\n",
    "\n",
    "df = pd.read_table(io.StringIO(table), delimiter=\"\\t\")"
   ]
  },
  {
   "cell_type": "code",
   "execution_count": 90,
   "metadata": {
    "execution": {
     "iopub.execute_input": "2022-01-31T08:25:42.935365Z",
     "iopub.status.busy": "2022-01-31T08:25:42.934980Z",
     "iopub.status.idle": "2022-01-31T08:25:42.946991Z",
     "shell.execute_reply": "2022-01-31T08:25:42.945985Z",
     "shell.execute_reply.started": "2022-01-31T08:25:42.935327Z"
    },
    "tags": []
   },
   "outputs": [],
   "source": [
    "from itertools import product\n",
    "\n",
    "D = {}\n",
    "for x,y in product(range(len(df.index)), range(len(df.columns))): \n",
    "    D[(eval(df.index[x].strip()), eval(df.columns[y].strip()))] = eval(df.iloc[x, y])\n",
    "rule = Rule(D)"
   ]
  },
  {
   "cell_type": "code",
   "execution_count": 41,
   "metadata": {
    "execution": {
     "iopub.execute_input": "2022-01-31T07:55:54.285971Z",
     "iopub.status.busy": "2022-01-31T07:55:54.285591Z",
     "iopub.status.idle": "2022-01-31T07:55:54.293102Z",
     "shell.execute_reply": "2022-01-31T07:55:54.292088Z",
     "shell.execute_reply.started": "2022-01-31T07:55:54.285929Z"
    },
    "tags": []
   },
   "outputs": [
    {
     "data": {
      "text/plain": [
       "'gef.klein'"
      ]
     },
     "execution_count": 41,
     "metadata": {},
     "output_type": "execute_result"
    }
   ],
   "source": [
    "df.iloc[0,1]"
   ]
  },
  {
   "cell_type": "code",
   "execution_count": 40,
   "metadata": {
    "execution": {
     "iopub.execute_input": "2022-01-31T07:42:25.364842Z",
     "iopub.status.busy": "2022-01-31T07:42:25.364507Z",
     "iopub.status.idle": "2022-01-31T07:42:25.376416Z",
     "shell.execute_reply": "2022-01-31T07:42:25.375399Z",
     "shell.execute_reply.started": "2022-01-31T07:42:25.364796Z"
    },
    "tags": []
   },
   "outputs": [
    {
     "name": "stderr",
     "output_type": "stream",
     "text": [
      "/tmp/ipykernel_2522/3104803980.py:1: FutureWarning: Dropping of nuisance columns in DataFrame reductions (with 'numeric_only=None') is deprecated; in a future version this will raise TypeError.  Select only valid columns before calling the reduction.\n",
      "  df.product(1,1)\n"
     ]
    },
    {
     "data": {
      "text/plain": [
       "temp.kalt      1.0\n",
       "temp.mittel    1.0\n",
       "temp.heiß      1.0\n",
       "dtype: float64"
      ]
     },
     "execution_count": 40,
     "metadata": {},
     "output_type": "execute_result"
    }
   ],
   "source": [
    "df.product(1,1)"
   ]
  },
  {
   "cell_type": "code",
   "execution_count": 34,
   "metadata": {
    "execution": {
     "iopub.execute_input": "2022-01-31T07:40:44.362199Z",
     "iopub.status.busy": "2022-01-31T07:40:44.361853Z",
     "iopub.status.idle": "2022-01-31T07:40:44.368891Z",
     "shell.execute_reply": "2022-01-31T07:40:44.368009Z",
     "shell.execute_reply.started": "2022-01-31T07:40:44.362132Z"
    },
    "tags": []
   },
   "outputs": [
    {
     "name": "stdout",
     "output_type": "stream",
     "text": [
      "0             tan.klein\n",
      "1 tan.mittel.\n",
      "2 tan.groß\n"
     ]
    }
   ],
   "source": [
    "for j, row in enumerate(df.keys()): print(j, row)"
   ]
  }
 ],
 "metadata": {
  "kernelspec": {
   "display_name": "Python 3 (ipykernel)",
   "language": "python",
   "name": "python3"
  },
  "language_info": {
   "codemirror_mode": {
    "name": "ipython",
    "version": 3
   },
   "file_extension": ".py",
   "mimetype": "text/x-python",
   "name": "python",
   "nbconvert_exporter": "python",
   "pygments_lexer": "ipython3",
   "version": "3.8.5"
  }
 },
 "nbformat": 4,
 "nbformat_minor": 4
}
